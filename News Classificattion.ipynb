{
 "cells": [
  {
   "cell_type": "code",
   "execution_count": 8,
   "metadata": {
    "colab": {
     "base_uri": "https://localhost:8080/",
     "height": 34
    },
    "colab_type": "code",
    "id": "uCPxyUOjs1Bk",
    "outputId": "3ce4fd22-64dc-431f-a444-ccdf217f4c45"
   },
   "outputs": [
    {
     "data": {
      "text/plain": [
       "('parser', <spacy.pipeline.pipes.DependencyParser at 0x7fb85ed44a68>)"
      ]
     },
     "execution_count": 8,
     "metadata": {
      "tags": []
     },
     "output_type": "execute_result"
    }
   ],
   "source": [
    "import spacy\n",
    "nlp = spacy.load('en_core_web_sm', disable=['ner'])\n",
    "nlp.remove_pipe('tagger')\n",
    "nlp.remove_pipe('parser')"
   ]
  },
  {
   "cell_type": "code",
   "execution_count": 2,
   "metadata": {
    "colab": {},
    "colab_type": "code",
    "id": "6fUbkJrxtLNi"
   },
   "outputs": [],
   "source": [
    "import csv\n",
    "import numpy as np\n",
    "import pandas as pd\n",
    "\n",
    "import warnings\n",
    "warnings.filterwarnings('ignore')"
   ]
  },
  {
   "cell_type": "code",
   "execution_count": 3,
   "metadata": {
    "colab": {},
    "colab_type": "code",
    "id": "az8MpOgXtgFX"
   },
   "outputs": [],
   "source": [
    "data = pd.read_csv(\"drive/My Drive/BBC News.csv\")"
   ]
  },
  {
   "cell_type": "code",
   "execution_count": 4,
   "metadata": {
    "colab": {
     "base_uri": "https://localhost:8080/",
     "height": 204
    },
    "colab_type": "code",
    "id": "7oYsl2Zutjcv",
    "outputId": "41a35e2d-2513-4f6d-ee0d-803a9f948c13"
   },
   "outputs": [
    {
     "data": {
      "text/html": [
       "<div>\n",
       "<style scoped>\n",
       "    .dataframe tbody tr th:only-of-type {\n",
       "        vertical-align: middle;\n",
       "    }\n",
       "\n",
       "    .dataframe tbody tr th {\n",
       "        vertical-align: top;\n",
       "    }\n",
       "\n",
       "    .dataframe thead th {\n",
       "        text-align: right;\n",
       "    }\n",
       "</style>\n",
       "<table border=\"1\" class=\"dataframe\">\n",
       "  <thead>\n",
       "    <tr style=\"text-align: right;\">\n",
       "      <th></th>\n",
       "      <th>ArticleId</th>\n",
       "      <th>Text</th>\n",
       "      <th>Category</th>\n",
       "    </tr>\n",
       "  </thead>\n",
       "  <tbody>\n",
       "    <tr>\n",
       "      <th>0</th>\n",
       "      <td>1833</td>\n",
       "      <td>worldcom ex-boss launches defence lawyers defe...</td>\n",
       "      <td>business</td>\n",
       "    </tr>\n",
       "    <tr>\n",
       "      <th>1</th>\n",
       "      <td>154</td>\n",
       "      <td>german business confidence slides german busin...</td>\n",
       "      <td>business</td>\n",
       "    </tr>\n",
       "    <tr>\n",
       "      <th>2</th>\n",
       "      <td>1101</td>\n",
       "      <td>bbc poll indicates economic gloom citizens in ...</td>\n",
       "      <td>business</td>\n",
       "    </tr>\n",
       "    <tr>\n",
       "      <th>3</th>\n",
       "      <td>1976</td>\n",
       "      <td>lifestyle  governs mobile choice  faster  bett...</td>\n",
       "      <td>tech</td>\n",
       "    </tr>\n",
       "    <tr>\n",
       "      <th>4</th>\n",
       "      <td>917</td>\n",
       "      <td>enron bosses in $168m payout eighteen former e...</td>\n",
       "      <td>business</td>\n",
       "    </tr>\n",
       "  </tbody>\n",
       "</table>\n",
       "</div>"
      ],
      "text/plain": [
       "   ArticleId                                               Text  Category\n",
       "0       1833  worldcom ex-boss launches defence lawyers defe...  business\n",
       "1        154  german business confidence slides german busin...  business\n",
       "2       1101  bbc poll indicates economic gloom citizens in ...  business\n",
       "3       1976  lifestyle  governs mobile choice  faster  bett...      tech\n",
       "4        917  enron bosses in $168m payout eighteen former e...  business"
      ]
     },
     "execution_count": 4,
     "metadata": {
      "tags": []
     },
     "output_type": "execute_result"
    }
   ],
   "source": [
    "data.head()"
   ]
  },
  {
   "cell_type": "code",
   "execution_count": 5,
   "metadata": {
    "colab": {},
    "colab_type": "code",
    "id": "aGV4cJhgtk6u"
   },
   "outputs": [],
   "source": [
    "data = data.sample(frac=1) #avoiding possible bias\n",
    "split = int(len(data) * 0.8)\n",
    "tmp_train = data.iloc[:split,:]\n",
    "test_data = data.iloc[split:,:]\n",
    "\n",
    "# 2. Splitting train data into a train/validation split that's 80% train, 20% validation \n",
    "validation_split = int(split * 0.8)\n",
    "train_data = tmp_train.iloc[:validation_split,:]\n",
    "validation_data = tmp_train.iloc[validation_split:,:]"
   ]
  },
  {
   "cell_type": "code",
   "execution_count": 6,
   "metadata": {
    "colab": {
     "base_uri": "https://localhost:8080/",
     "height": 68
    },
    "colab_type": "code",
    "id": "5BcmfPiGtocH",
    "outputId": "8e63fe5c-0b01-4751-bbb3-07d958d14a44"
   },
   "outputs": [
    {
     "name": "stdout",
     "output_type": "stream",
     "text": [
      "953\n",
      "239\n",
      "298\n"
     ]
    }
   ],
   "source": [
    "print (len(train_data))\n",
    "print (len(validation_data))\n",
    "print (len(test_data))"
   ]
  },
  {
   "cell_type": "code",
   "execution_count": 12,
   "metadata": {
    "colab": {},
    "colab_type": "code",
    "id": "RyY3QaIXuwSM"
   },
   "outputs": [],
   "source": [
    "train_data_X = train_data[\"Text\"]\n",
    "train_data_Y = train_data[\"Category\"]\n",
    "\n",
    "validation_data_X = validation_data[\"Text\"]\n",
    "validation_data_Y = validation_data[\"Category\"]\n",
    "\n",
    "test_data_X = test_data[\"Text\"]\n",
    "test_data_Y = test_data[\"Category\"]"
   ]
  },
  {
   "cell_type": "code",
   "execution_count": 13,
   "metadata": {
    "colab": {},
    "colab_type": "code",
    "id": "kW2qZuH1uzAn"
   },
   "outputs": [],
   "source": [
    "#Tokenize\n",
    "def spacy_tokenize(string):\n",
    "  tokens = list()\n",
    "  doc = nlp(string)\n",
    "  for token in doc:\n",
    "    tokens.append(token)\n",
    "  return tokens\n",
    "\n",
    "#Normalize\n",
    "def normalize(tokens):\n",
    "  normalized_tokens = list()\n",
    "  for token in tokens:\n",
    "    normalized = token.text.lower().strip()\n",
    "    if ((token.is_alpha or token.is_digit)):\n",
    "      normalized_tokens.append(normalized)\n",
    "  return normalized_tokens\n",
    "  return normalized_tokens\n",
    "\n",
    "#Tokenize and normalize\n",
    "def tokenize_normalize(string):\n",
    "  return normalize(spacy_tokenize(string))"
   ]
  },
  {
   "cell_type": "code",
   "execution_count": 14,
   "metadata": {
    "colab": {},
    "colab_type": "code",
    "id": "_DtkgUpJvMhc"
   },
   "outputs": [],
   "source": [
    "from sklearn.feature_extraction.text import CountVectorizer #One hot encoding\n",
    "from sklearn.feature_extraction.text import TfidfVectorizer #Bag of words"
   ]
  },
  {
   "cell_type": "code",
   "execution_count": 16,
   "metadata": {
    "colab": {},
    "colab_type": "code",
    "id": "bjRaPtlqwtC6"
   },
   "outputs": [],
   "source": [
    "one_hot_vectorizer = CountVectorizer(tokenizer = tokenize_normalize, binary = True)\n",
    "one_hot_vectorizer.fit(train_data_X)\n",
    "train_features_one_hot = one_hot_vectorizer.transform(train_data_X)\n",
    "validation_features_one_hot = one_hot_vectorizer.transform(validation_data_X)\n",
    "test_features_one_hot = one_hot_vectorizer.transform(test_data_X)"
   ]
  },
  {
   "cell_type": "code",
   "execution_count": 17,
   "metadata": {
    "colab": {},
    "colab_type": "code",
    "id": "vcErfacDw0co"
   },
   "outputs": [],
   "source": [
    "tfidf_vectorizer = TfidfVectorizer(tokenizer = tokenize_normalize)\n",
    "tfidf_vectorizer.fit(train_data_X)\n",
    "train_features_tfidf = tfidf_vectorizer.transform(train_data_X)\n",
    "validation_features_tfidf = tfidf_vectorizer.transform(validation_data_X)\n",
    "test_features_tfidf = tfidf_vectorizer.transform(test_data_X)"
   ]
  },
  {
   "cell_type": "markdown",
   "metadata": {
    "colab_type": "text",
    "id": "e9Fi6c34yRfF"
   },
   "source": [
    "**Trying different models to select the best one**"
   ]
  },
  {
   "cell_type": "code",
   "execution_count": 15,
   "metadata": {
    "colab": {},
    "colab_type": "code",
    "id": "x5MVGyWxvmct"
   },
   "outputs": [],
   "source": [
    "from sklearn.linear_model import LogisticRegression\n",
    "from sklearn.svm import SVC\n",
    "from sklearn.naive_bayes import MultinomialNB\n",
    "from sklearn.pipeline import FeatureUnion\n",
    "from sklearn.metrics import accuracy_score\n",
    "from sklearn.metrics import classification_report"
   ]
  },
  {
   "cell_type": "code",
   "execution_count": 18,
   "metadata": {
    "colab": {
     "base_uri": "https://localhost:8080/",
     "height": 34
    },
    "colab_type": "code",
    "id": "u9Ii65EzwXOg",
    "outputId": "ec116ef8-7f45-4cd1-d982-b389811e8f21"
   },
   "outputs": [
    {
     "data": {
      "text/plain": [
       "MultinomialNB(alpha=0.01, class_prior=None, fit_prior=True)"
      ]
     },
     "execution_count": 18,
     "metadata": {
      "tags": []
     },
     "output_type": "execute_result"
    }
   ],
   "source": [
    "logreg_onehot = LogisticRegression()\n",
    "logreg_onehot.fit(train_features_one_hot,train_data_Y)\n",
    "svc_one_hot = SVC(kernel = \"rbf\")\n",
    "svc_one_hot.fit(train_features_one_hot,train_data_Y)\n",
    "nb_one_hot = MultinomialNB(alpha = 0.01, fit_prior = True)\n",
    "nb_one_hot.fit(train_features_one_hot,train_data_Y)"
   ]
  },
  {
   "cell_type": "code",
   "execution_count": 19,
   "metadata": {
    "colab": {
     "base_uri": "https://localhost:8080/",
     "height": 34
    },
    "colab_type": "code",
    "id": "7s2SLp1dxy4y",
    "outputId": "4fb9d6ff-06ee-47c5-dd51-04ad6859f485"
   },
   "outputs": [
    {
     "data": {
      "text/plain": [
       "MultinomialNB(alpha=0.01, class_prior=None, fit_prior=True)"
      ]
     },
     "execution_count": 19,
     "metadata": {
      "tags": []
     },
     "output_type": "execute_result"
    }
   ],
   "source": [
    "logreg_tfidf = LogisticRegression()\n",
    "logreg_tfidf.fit(train_features_tfidf,train_data_Y)\n",
    "svc_tfidf = SVC(kernel = \"rbf\")\n",
    "svc_tfidf.fit(train_features_tfidf,train_data_Y)\n",
    "nb_tfidf = MultinomialNB(alpha = 0.01, fit_prior = True)\n",
    "nb_tfidf.fit(train_features_tfidf,train_data_Y)"
   ]
  },
  {
   "cell_type": "code",
   "execution_count": 21,
   "metadata": {
    "colab": {},
    "colab_type": "code",
    "id": "xIv8YklUyFnZ"
   },
   "outputs": [],
   "source": [
    "validation_log_oh = logreg_onehot.predict(validation_features_one_hot)\n",
    "validation_svc_oh = svc_one_hot.predict(validation_features_one_hot)\n",
    "validation_nb_oh = nb_one_hot.predict(validation_features_one_hot)\n",
    "validation_log_tfidf = logreg_tfidf.predict(validation_features_tfidf)\n",
    "validation_svc_tfidf = svc_tfidf.predict(validation_features_tfidf)\n",
    "validation_nb_tfidf = nb_tfidf.predict(validation_features_tfidf)"
   ]
  },
  {
   "cell_type": "code",
   "execution_count": 26,
   "metadata": {
    "colab": {
     "base_uri": "https://localhost:8080/",
     "height": 255
    },
    "colab_type": "code",
    "id": "zVgFNi5Oylnb",
    "outputId": "a76fdcf1-8b18-4443-941c-8e6ac5100f0a"
   },
   "outputs": [
    {
     "name": "stdout",
     "output_type": "stream",
     "text": [
      "Accuracy using one-hot encoding: \n",
      "\n",
      "\n",
      "Logistic Regression:  94.97907949790795\n",
      "Support Vector Machine:  94.56066945606695\n",
      "Multinomial Naive Bayes:  96.65271966527197\n",
      "\n",
      "\n",
      "Accuracy using bag of words (but without tf-idf scaling - that may be used later): \n",
      "\n",
      "\n",
      "Logistic Regression:  95.39748953974896\n",
      "Support Vector Machine:  95.81589958158996\n",
      "Multinomial Naive Bayes:  94.97907949790795\n"
     ]
    }
   ],
   "source": [
    "print (\"Accuracy using one-hot encoding: \\n\\n\")\n",
    "print (\"Logistic Regression: \",100*accuracy_score(validation_data_Y,validation_log_oh))\n",
    "print (\"Support Vector Machine: \",100*accuracy_score(validation_data_Y,validation_svc_oh))\n",
    "print (\"Multinomial Naive Bayes: \",100*accuracy_score(validation_data_Y,validation_nb_oh))\n",
    "print (\"\\n\\nAccuracy using bag of words (but without tf-idf scaling - that may be used later): \\n\\n\")\n",
    "print (\"Logistic Regression: \",100*accuracy_score(validation_data_Y,validation_log_tfidf))\n",
    "print (\"Support Vector Machine: \",100*accuracy_score(validation_data_Y,validation_svc_tfidf))\n",
    "print (\"Multinomial Naive Bayes: \",100*accuracy_score(validation_data_Y,validation_nb_tfidf))"
   ]
  },
  {
   "cell_type": "markdown",
   "metadata": {
    "colab_type": "text",
    "id": "1ga0Lo0W0Tbc"
   },
   "source": [
    "**The best model is Multinomial Naive Bayes with one-hot encoding** "
   ]
  },
  {
   "cell_type": "code",
   "execution_count": 27,
   "metadata": {
    "colab": {
     "base_uri": "https://localhost:8080/",
     "height": 34
    },
    "colab_type": "code",
    "id": "mkM9VH6xzS7T",
    "outputId": "1263215d-aa51-4cf6-ef52-bdb4e8078200"
   },
   "outputs": [
    {
     "name": "stdout",
     "output_type": "stream",
     "text": [
      "Correctly classified on validation set: 230/239\n"
     ]
    }
   ],
   "source": [
    "#Let us check how many it has correctly classified\n",
    "correctly_classified_in_validation = int(0.9665*len(validation_data))\n",
    "print (\"Correctly classified on validation set: %d/%d\"%(correctly_classified_in_validation,len(validation_data)))"
   ]
  },
  {
   "cell_type": "code",
   "execution_count": 28,
   "metadata": {
    "colab": {
     "base_uri": "https://localhost:8080/",
     "height": 34
    },
    "colab_type": "code",
    "id": "dujNm1Vd1KwY",
    "outputId": "2f57551f-206f-4801-add5-ce8a1a594516"
   },
   "outputs": [
    {
     "name": "stdout",
     "output_type": "stream",
     "text": [
      "Accuracy on test set:  98.3221476510067\n"
     ]
    }
   ],
   "source": [
    "#Let us try on test data\n",
    "test_nb_oh = nb_one_hot.predict(test_features_one_hot)\n",
    "print (\"Accuracy on test set: \",100*accuracy_score(test_data_Y,test_nb_oh))"
   ]
  },
  {
   "cell_type": "code",
   "execution_count": 29,
   "metadata": {
    "colab": {
     "base_uri": "https://localhost:8080/",
     "height": 34
    },
    "colab_type": "code",
    "id": "87x0YzJk2TMH",
    "outputId": "c079deb6-cee8-4ab3-ab18-28167a898ce8"
   },
   "outputs": [
    {
     "name": "stdout",
     "output_type": "stream",
     "text": [
      "Correctly classified on test set: 292/298\n"
     ]
    }
   ],
   "source": [
    "correctly_classified_in_test = int(0.9832*len(test_data))\n",
    "print (\"Correctly classified on test set: %d/%d\"%(correctly_classified_in_test,len(test_data)))"
   ]
  },
  {
   "cell_type": "code",
   "execution_count": 30,
   "metadata": {
    "colab": {
     "base_uri": "https://localhost:8080/",
     "height": 221
    },
    "colab_type": "code",
    "id": "UaOS9RPu2nKI",
    "outputId": "fa75b87f-1813-4589-8454-c5a6ab8d7bb3"
   },
   "outputs": [
    {
     "name": "stdout",
     "output_type": "stream",
     "text": [
      "               precision    recall  f1-score   support\n",
      "\n",
      "     business       0.99      0.97      0.98        72\n",
      "entertainment       0.98      0.96      0.97        47\n",
      "     politics       1.00      1.00      1.00        60\n",
      "        sport       1.00      1.00      1.00        69\n",
      "         tech       0.94      0.98      0.96        50\n",
      "\n",
      "     accuracy                           0.98       298\n",
      "    macro avg       0.98      0.98      0.98       298\n",
      " weighted avg       0.98      0.98      0.98       298\n",
      "\n"
     ]
    }
   ],
   "source": [
    "print (classification_report(test_data_Y,test_nb_oh))"
   ]
  },
  {
   "cell_type": "markdown",
   "metadata": {
    "colab_type": "text",
    "id": "hPA2u2OE6Eb0"
   },
   "source": [
    "**Lets try our model on a completely new article from BBC News on\n",
    "Leicester City's match against Shefield United on 16.07.2020**\n"
   ]
  },
  {
   "cell_type": "code",
   "execution_count": 33,
   "metadata": {
    "colab": {},
    "colab_type": "code",
    "id": "MESGlVGH29hY"
   },
   "outputs": [],
   "source": [
    "article = \"\"\"Leicester boss Brendan Rodgers challenged his team to \"make more history\" after victory over Sheffield United secured European football for next season.\n",
    "\n",
    "A first-half strike by Ayoze Perez and Demarai Gray's counter-attacking goal ensured the Foxes stay fourth, a point behind third-placed Chelsea with two games remaining.\n",
    "\n",
    "Their win also means they qualified for next season's Europa League at least.\n",
    "\n",
    "But Rodgers wants Leicester to secure Champions League football for a second time after becoming Premier League title-winners in 2016.\n",
    "\n",
    "\"The result gives us the second-highest Premier League finish in Leicester's history. We have two games to go to create some more history,\" he said.\n",
    "\n",
    "\"We all sat down at the start of season and said, it would be huge challenge for Leicester to get into Europe, so do that in my first season here, to guarantee that is a phenomenal achievement.\"\n",
    "\n",
    "The hosts, who dominated most of the game, went ahead when impressive 19-year-old debutant Luke Thomas crossed low to set up Perez after 29 minutes.\n",
    "\n",
    "They should have extended their lead after the break when Harvey Barnes was twice denied by United goalkeeper Dean Henderson after clever through balls by Jamie Vardy.\n",
    "\n",
    "The Foxes' top scorer also hit the post, and it looked as though Sheffield United might be fortunate enough to equalise when Jack O'Connell's shot was tipped wide by Kasper Schmeichel.\n",
    "\n",
    "But, as the game hung in the balance, substitute Gray, on for Barnes, collected Vardy's pass and beat Henderson to finally seal the win after 79 minutes.\n",
    "\n",
    "Leicester's victory was only their second in six games since the restart but it was a timely boost for Rodgers' team, who are ahead of fifth-placed Manchester United on goal difference.\n",
    "\n",
    "Blades boss Chris Wilder was fuming with his players afterwards as the result ended a four-game unbeaten run which included wins over Tottenham, Wolves and Chelsea.\n",
    "\n",
    "They remain eighth, two points behind sixth-placed Wolves, with the prospect of European football next season now out of their hands.\n",
    "\n",
    "The hosts have struggled since the Premier League's restart, but this was a vastly improved display after their chastening 4-1 loss at relegation-threatened Bournemouth and it was engineered by an impressive blend of youth and experience in their side.\n",
    "\n",
    "Their biggest threat in the first half came down the left side where Barnes's pace was boosted by some fine crossing by England under-19 international Thomas, who had already picked out Perez for a close-range header before he supplied the Spaniard's eighth goal of the season.\n",
    "\n",
    "Filling in for the injured Ben Chilwell, who has been linked with a move to Chelsea, Thomas showed his manager Rodgers that he is a more than capable back-up.\n",
    "\n",
    "Led by the impressive Youri Tielemans, who orchestrated Leicester's midfield to out-manoeuvre the visitors, the 2016 Premier League champions could have been further ahead before the break but for Henderson thwarting both Vardy and Perez.\n",
    "\n",
    "Having bossed the first half, they were then forced to play on the counter attack after the break following a triple half-time substitution by Wilder.\n",
    "\n",
    "That shift played into the hands of Vardy, who showed his guile at the age of 33 to twice set up Barnes. The midfielder really should have capitalised.\n",
    "\n",
    "It felt like they could be crucial misses as the Blades pressed for an equaliser, but it was Barnes' replacement Gray who had the required composure as he collected Vardy's clever lay-off and steered into the net for his third of the season.\n",
    "\n",
    "It was ample reward for a display which bodes well for their remaining games this season and another potential Champions League campaign next season.\n",
    "\n",
    "Whether Sheffield United play European football next season or not, it has already been a brilliant campaign for Wilder's team, their first back in the top flight after a 12-season gap.\n",
    "\n",
    "The fact they shook off a poor start when the Premier League resumed to earn 10 points from 12 in their previous four matches was a testament to their durability and craft.\n",
    "\n",
    "But after three wins over teams above them, they found Leicester a more difficult task.\n",
    "\n",
    "Although they made a good start where David McGoldrick fired over from George Baldock's cross, they were second best for much of the first half as Leicester's players, set up in a 3-4-3 formation, continually asked questions of the Blades' resolute defence.\n",
    "\n",
    "Much of that was down to Tielemans. Even though the visitors had an extra man in central midfield, they could not get near the excellent Belgian.\n",
    "\n",
    "That led to Wilder making a triple substitution as John Lundstram, John Fleck and Lys Mousset replaced Sander Berge, Ben Osborn and the ineffective McGoldrick.\n",
    "\n",
    "It led to a slight improvement, but O'Connell's effort after 63 minutes following John Egan's nod back from a corner was their first shot on target.\n",
    "\n",
    "The Blades continued to probe, although their best efforts came from set-pieces and, as they left gaps in their defence, it was Vardy's threat was which eventually their undoing.\n",
    "\"\"\""
   ]
  },
  {
   "cell_type": "code",
   "execution_count": 34,
   "metadata": {
    "colab": {
     "base_uri": "https://localhost:8080/",
     "height": 137
    },
    "colab_type": "code",
    "id": "l97QNrTB4_nr",
    "outputId": "cac8d203-3a12-40e4-a804-662bed8e4639"
   },
   "outputs": [
    {
     "data": {
      "application/vnd.google.colaboratory.intrinsic": {
       "type": "string"
      },
      "text/plain": [
       "'Leicester boss Brendan Rodgers challenged his team to \"make more history\" after victory over Sheffield United secured European football for next season.\\n\\nA first-half strike by Ayoze Perez and Demarai Gray\\'s counter-attacking goal ensured the Foxes stay fourth, a point behind third-placed Chelsea with two games remaining.\\n\\nTheir win also means they qualified for next season\\'s Europa League at least.\\n\\nBut Rodgers wants Leicester to secure Champions League football for a second time after becoming Premier League title-winners in 2016.\\n\\n\"The result gives us the second-highest Premier League finish in Leicester\\'s history. We have two games to go to create some more history,\" he said.\\n\\n\"We all sat down at the start of season and said, it would be huge challenge for Leicester to get into Europe, so do that in my first season here, to guarantee that is a phenomenal achievement.\"\\n\\nThe hosts, who dominated most of the game, went ahead when impressive 19-year-old debutant Luke Thomas crossed low to set up Perez after 29 minutes.\\n\\nThey should have extended their lead after the break when Harvey Barnes was twice denied by United goalkeeper Dean Henderson after clever through balls by Jamie Vardy.\\n\\nThe Foxes\\' top scorer also hit the post, and it looked as though Sheffield United might be fortunate enough to equalise when Jack O\\'Connell\\'s shot was tipped wide by Kasper Schmeichel.\\n\\nBut, as the game hung in the balance, substitute Gray, on for Barnes, collected Vardy\\'s pass and beat Henderson to finally seal the win after 79 minutes.\\n\\nLeicester\\'s victory was only their second in six games since the restart but it was a timely boost for Rodgers\\' team, who are ahead of fifth-placed Manchester United on goal difference.\\n\\nBlades boss Chris Wilder was fuming with his players afterwards as the result ended a four-game unbeaten run which included wins over Tottenham, Wolves and Chelsea.\\n\\nThey remain eighth, two points behind sixth-placed Wolves, with the prospect of European football next season now out of their hands.\\n\\nThe hosts have struggled since the Premier League\\'s restart, but this was a vastly improved display after their chastening 4-1 loss at relegation-threatened Bournemouth and it was engineered by an impressive blend of youth and experience in their side.\\n\\nTheir biggest threat in the first half came down the left side where Barnes\\'s pace was boosted by some fine crossing by England under-19 international Thomas, who had already picked out Perez for a close-range header before he supplied the Spaniard\\'s eighth goal of the season.\\n\\nFilling in for the injured Ben Chilwell, who has been linked with a move to Chelsea, Thomas showed his manager Rodgers that he is a more than capable back-up.\\n\\nLed by the impressive Youri Tielemans, who orchestrated Leicester\\'s midfield to out-manoeuvre the visitors, the 2016 Premier League champions could have been further ahead before the break but for Henderson thwarting both Vardy and Perez.\\n\\nHaving bossed the first half, they were then forced to play on the counter attack after the break following a triple half-time substitution by Wilder.\\n\\nThat shift played into the hands of Vardy, who showed his guile at the age of 33 to twice set up Barnes. The midfielder really should have capitalised.\\n\\nIt felt like they could be crucial misses as the Blades pressed for an equaliser, but it was Barnes\\' replacement Gray who had the required composure as he collected Vardy\\'s clever lay-off and steered into the net for his third of the season.\\n\\nIt was ample reward for a display which bodes well for their remaining games this season and another potential Champions League campaign next season.\\n\\nWhether Sheffield United play European football next season or not, it has already been a brilliant campaign for Wilder\\'s team, their first back in the top flight after a 12-season gap.\\n\\nThe fact they shook off a poor start when the Premier League resumed to earn 10 points from 12 in their previous four matches was a testament to their durability and craft.\\n\\nBut after three wins over teams above them, they found Leicester a more difficult task.\\n\\nAlthough they made a good start where David McGoldrick fired over from George Baldock\\'s cross, they were second best for much of the first half as Leicester\\'s players, set up in a 3-4-3 formation, continually asked questions of the Blades\\' resolute defence.\\n\\nMuch of that was down to Tielemans. Even though the visitors had an extra man in central midfield, they could not get near the excellent Belgian.\\n\\nThat led to Wilder making a triple substitution as John Lundstram, John Fleck and Lys Mousset replaced Sander Berge, Ben Osborn and the ineffective McGoldrick.\\n\\nIt led to a slight improvement, but O\\'Connell\\'s effort after 63 minutes following John Egan\\'s nod back from a corner was their first shot on target.\\n\\nThe Blades continued to probe, although their best efforts came from set-pieces and, as they left gaps in their defence, it was Vardy\\'s threat was which eventually their undoing.\\n'"
      ]
     },
     "execution_count": 34,
     "metadata": {
      "tags": []
     },
     "output_type": "execute_result"
    }
   ],
   "source": [
    "article"
   ]
  },
  {
   "cell_type": "code",
   "execution_count": 38,
   "metadata": {
    "colab": {},
    "colab_type": "code",
    "id": "oLqK7RkP5BLz"
   },
   "outputs": [],
   "source": [
    "article_features = one_hot_vectorizer.transform([article])"
   ]
  },
  {
   "cell_type": "code",
   "execution_count": 40,
   "metadata": {
    "colab": {
     "base_uri": "https://localhost:8080/",
     "height": 34
    },
    "colab_type": "code",
    "id": "wJEiZ1MY5ncL",
    "outputId": "70e7d46d-d47a-4336-ee8f-bd0408241d80"
   },
   "outputs": [
    {
     "data": {
      "text/plain": [
       "array(['sport'], dtype='<U13')"
      ]
     },
     "execution_count": 40,
     "metadata": {
      "tags": []
     },
     "output_type": "execute_result"
    }
   ],
   "source": [
    "article_prediction = nb_one_hot.predict(article_features)\n",
    "article_prediction"
   ]
  },
  {
   "cell_type": "markdown",
   "metadata": {
    "colab_type": "text",
    "id": "BNPAm1J06b8Y"
   },
   "source": [
    "**It is being correctly predicted as sport**"
   ]
  }
 ],
 "metadata": {
  "colab": {
   "name": "News_Classification.ipynb",
   "provenance": []
  },
  "kernelspec": {
   "display_name": "Python 3",
   "language": "python",
   "name": "python3"
  },
  "language_info": {
   "codemirror_mode": {
    "name": "ipython",
    "version": 3
   },
   "file_extension": ".py",
   "mimetype": "text/x-python",
   "name": "python",
   "nbconvert_exporter": "python",
   "pygments_lexer": "ipython3",
   "version": "3.7.4"
  }
 },
 "nbformat": 4,
 "nbformat_minor": 1
}
